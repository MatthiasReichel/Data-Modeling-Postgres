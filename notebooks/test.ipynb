{
 "cells": [
  {
   "cell_type": "code",
   "execution_count": 1,
   "metadata": {},
   "outputs": [],
   "source": [
    "%load_ext sql\n",
    "\n",
    "import psycopg2"
   ]
  },
  {
   "cell_type": "code",
   "execution_count": 2,
   "metadata": {},
   "outputs": [],
   "source": [
    "%sql postgresql://localhost/musicdb\n",
    "conn = psycopg2.connect(\"host=localhost dbname=musicdb\")\n"
   ]
  },
  {
   "cell_type": "code",
   "execution_count": 22,
   "metadata": {},
   "outputs": [
    {
     "name": "stdout",
     "output_type": "stream",
     "text": [
      " * postgresql://localhost/musicdb\n",
      "0 rows affected.\n"
     ]
    },
    {
     "data": {
      "text/html": [
       "<table>\n",
       "    <tr>\n",
       "        <th>user_id</th>\n",
       "        <th>first_name</th>\n",
       "        <th>last_name</th>\n",
       "        <th>gender</th>\n",
       "        <th>level</th>\n",
       "    </tr>\n",
       "</table>"
      ],
      "text/plain": [
       "[]"
      ]
     },
     "execution_count": 22,
     "metadata": {},
     "output_type": "execute_result"
    }
   ],
   "source": [
    "%sql SELECT * FROM users LIMIT 5;"
   ]
  },
  {
   "cell_type": "code",
   "execution_count": 5,
   "metadata": {},
   "outputs": [
    {
     "name": "stdout",
     "output_type": "stream",
     "text": [
      " * postgresql://localhost/musicdb\n",
      "1 rows affected.\n"
     ]
    },
    {
     "data": {
      "text/html": [
       "<table>\n",
       "    <tr>\n",
       "        <th>count</th>\n",
       "    </tr>\n",
       "    <tr>\n",
       "        <td>625</td>\n",
       "    </tr>\n",
       "</table>"
      ],
      "text/plain": [
       "[(625,)]"
      ]
     },
     "execution_count": 5,
     "metadata": {},
     "output_type": "execute_result"
    }
   ],
   "source": [
    "%sql SELECT COUNT(*) FROM songs LIMIT 5; SELECT * FROM songplays WHERE song_id != 'None';"
   ]
  },
  {
   "cell_type": "code",
   "execution_count": 24,
   "metadata": {},
   "outputs": [
    {
     "name": "stdout",
     "output_type": "stream",
     "text": [
      " * postgresql://localhost/musicdb\n",
      "16 rows affected.\n"
     ]
    },
    {
     "data": {
      "text/html": [
       "<table>\n",
       "    <tr>\n",
       "        <th>songplay_id</th>\n",
       "        <th>start_time</th>\n",
       "        <th>user_id</th>\n",
       "        <th>level</th>\n",
       "        <th>song_id</th>\n",
       "        <th>artist_id</th>\n",
       "        <th>session_id</th>\n",
       "        <th>location</th>\n",
       "        <th>user_agent</th>\n",
       "    </tr>\n",
       "    <tr>\n",
       "        <td>928</td>\n",
       "        <td>1541550480796</td>\n",
       "        <td>63</td>\n",
       "        <td>free</td>\n",
       "        <td>SOXLVKX12A6310E1C9</td>\n",
       "        <td>ARWD25M1187FB4C563</td>\n",
       "        <td>223</td>\n",
       "        <td>Santa Rosa, CA</td>\n",
       "        <td>&quot;Mozilla/5.0 (Macintosh; Intel Mac OS X 10_9_4) AppleWebKit/537.77.4 (KHTML, like Gecko) Version/7.0.5 Safari/537.77.4&quot;</td>\n",
       "    </tr>\n",
       "    <tr>\n",
       "        <td>1120</td>\n",
       "        <td>1541663782796</td>\n",
       "        <td>80</td>\n",
       "        <td>paid</td>\n",
       "        <td>SOGOQGE12AB0182907</td>\n",
       "        <td>ARVG4OK1187B9B6BD3</td>\n",
       "        <td>342</td>\n",
       "        <td>Portland-South Portland, ME</td>\n",
       "        <td>&quot;Mozilla/5.0 (Macintosh; Intel Mac OS X 10_9_4) AppleWebKit/537.36 (KHTML, like Gecko) Chrome/36.0.1985.143 Safari/537.36&quot;</td>\n",
       "    </tr>\n",
       "    <tr>\n",
       "        <td>1457</td>\n",
       "        <td>1541793477796</td>\n",
       "        <td>36</td>\n",
       "        <td>paid</td>\n",
       "        <td>SODWXQV12A6310F10D</td>\n",
       "        <td>AR6892W1187B9AC71B</td>\n",
       "        <td>392</td>\n",
       "        <td>Janesville-Beloit, WI</td>\n",
       "        <td>&quot;Mozilla/5.0 (Windows NT 5.1) AppleWebKit/537.36 (KHTML, like Gecko) Chrome/36.0.1985.143 Safari/537.36&quot;</td>\n",
       "    </tr>\n",
       "    <tr>\n",
       "        <td>1635</td>\n",
       "        <td>1541948437796</td>\n",
       "        <td>67</td>\n",
       "        <td>free</td>\n",
       "        <td>SOCHRXB12A8AE48069</td>\n",
       "        <td>ARTDQRC1187FB4EFD4</td>\n",
       "        <td>414</td>\n",
       "        <td>Nashville-Davidson--Murfreesboro--Franklin, TN</td>\n",
       "        <td>&quot;Mozilla/5.0 (Macintosh; Intel Mac OS X 10_9_4) AppleWebKit/537.36 (KHTML, like Gecko) Chrome/36.0.1985.125 Safari/537.36&quot;</td>\n",
       "    </tr>\n",
       "    <tr>\n",
       "        <td>2043</td>\n",
       "        <td>1542136279796</td>\n",
       "        <td>97</td>\n",
       "        <td>paid</td>\n",
       "        <td>SOQSYGY12A8C137E0F</td>\n",
       "        <td>AROF4LP1187FB41C51</td>\n",
       "        <td>537</td>\n",
       "        <td>Lansing-East Lansing, MI</td>\n",
       "        <td>&quot;Mozilla/5.0 (X11; Linux x86_64) AppleWebKit/537.36 (KHTML, like Gecko) Chrome/37.0.2062.94 Safari/537.36&quot;</td>\n",
       "    </tr>\n",
       "    <tr>\n",
       "        <td>2886</td>\n",
       "        <td>1542306785796</td>\n",
       "        <td>97</td>\n",
       "        <td>paid</td>\n",
       "        <td>SOOOROX12A6D4F8400</td>\n",
       "        <td>ARWY7I71187FB36C3D</td>\n",
       "        <td>605</td>\n",
       "        <td>Lansing-East Lansing, MI</td>\n",
       "        <td>&quot;Mozilla/5.0 (X11; Linux x86_64) AppleWebKit/537.36 (KHTML, like Gecko) Chrome/37.0.2062.94 Safari/537.36&quot;</td>\n",
       "    </tr>\n",
       "    <tr>\n",
       "        <td>3001</td>\n",
       "        <td>1542319191796</td>\n",
       "        <td>44</td>\n",
       "        <td>paid</td>\n",
       "        <td>SODPLYE12AB01898FB</td>\n",
       "        <td>ARA3I0J1187FB57869</td>\n",
       "        <td>619</td>\n",
       "        <td>Waterloo-Cedar Falls, IA</td>\n",
       "        <td>Mozilla/5.0 (Macintosh; Intel Mac OS X 10.9; rv:31.0) Gecko/20100101 Firefox/31.0</td>\n",
       "    </tr>\n",
       "    <tr>\n",
       "        <td>3167</td>\n",
       "        <td>1542378072796</td>\n",
       "        <td>85</td>\n",
       "        <td>paid</td>\n",
       "        <td>SOLRYQR12A670215BF</td>\n",
       "        <td>ARNLO5S1187B9B80CC</td>\n",
       "        <td>436</td>\n",
       "        <td>Red Bluff, CA</td>\n",
       "        <td>&quot;Mozilla/5.0 (Macintosh; Intel Mac OS X 10_10_0) AppleWebKit/537.36 (KHTML, like Gecko) Chrome/36.0.1985.143 Safari/537.36&quot;</td>\n",
       "    </tr>\n",
       "    <tr>\n",
       "        <td>4137</td>\n",
       "        <td>1542735998796</td>\n",
       "        <td>49</td>\n",
       "        <td>paid</td>\n",
       "        <td>SOCHRXB12A8AE48069</td>\n",
       "        <td>ARTDQRC1187FB4EFD4</td>\n",
       "        <td>758</td>\n",
       "        <td>San Francisco-Oakland-Hayward, CA</td>\n",
       "        <td>Mozilla/5.0 (Windows NT 5.1; rv:31.0) Gecko/20100101 Firefox/31.0</td>\n",
       "    </tr>\n",
       "    <tr>\n",
       "        <td>4627</td>\n",
       "        <td>1542837407796</td>\n",
       "        <td>15</td>\n",
       "        <td>paid</td>\n",
       "        <td>SOZCTXZ12AB0182364</td>\n",
       "        <td>AR5KOSW1187FB35FF4</td>\n",
       "        <td>818</td>\n",
       "        <td>Chicago-Naperville-Elgin, IL-IN-WI</td>\n",
       "        <td>&quot;Mozilla/5.0 (X11; Linux x86_64) AppleWebKit/537.36 (KHTML, like Gecko) Ubuntu Chromium/36.0.1985.125 Chrome/36.0.1985.125 Safari/537.36&quot;</td>\n",
       "    </tr>\n",
       "    <tr>\n",
       "        <td>4745</td>\n",
       "        <td>1542932064796</td>\n",
       "        <td>66</td>\n",
       "        <td>free</td>\n",
       "        <td>SOJBWGF12A8159E883</td>\n",
       "        <td>ARYVO9V1187B9B1FC6</td>\n",
       "        <td>815</td>\n",
       "        <td>Harrisburg-Carlisle, PA</td>\n",
       "        <td>&quot;Mozilla/5.0 (Macintosh; Intel Mac OS X 10_9_4) AppleWebKit/537.36 (KHTML, like Gecko) Chrome/36.0.1985.125 Safari/537.36&quot;</td>\n",
       "    </tr>\n",
       "    <tr>\n",
       "        <td>5114</td>\n",
       "        <td>1543063380796</td>\n",
       "        <td>73</td>\n",
       "        <td>paid</td>\n",
       "        <td>SONQBUB12A6D4F8ED0</td>\n",
       "        <td>ARFCUN31187B9AD578</td>\n",
       "        <td>692</td>\n",
       "        <td>Tampa-St. Petersburg-Clearwater, FL</td>\n",
       "        <td>&quot;Mozilla/5.0 (Macintosh; Intel Mac OS X 10_9_4) AppleWebKit/537.78.2 (KHTML, like Gecko) Version/7.0.6 Safari/537.78.2&quot;</td>\n",
       "    </tr>\n",
       "    <tr>\n",
       "        <td>5172</td>\n",
       "        <td>1543069653796</td>\n",
       "        <td>73</td>\n",
       "        <td>paid</td>\n",
       "        <td>SOOOROX12A6D4F8400</td>\n",
       "        <td>ARWY7I71187FB36C3D</td>\n",
       "        <td>692</td>\n",
       "        <td>Tampa-St. Petersburg-Clearwater, FL</td>\n",
       "        <td>&quot;Mozilla/5.0 (Macintosh; Intel Mac OS X 10_9_4) AppleWebKit/537.78.2 (KHTML, like Gecko) Version/7.0.6 Safari/537.78.2&quot;</td>\n",
       "    </tr>\n",
       "    <tr>\n",
       "        <td>5507</td>\n",
       "        <td>1543246436796</td>\n",
       "        <td>72</td>\n",
       "        <td>paid</td>\n",
       "        <td>SODOLVO12B0B80B2F4</td>\n",
       "        <td>AR6XPWV1187B9ADAEB</td>\n",
       "        <td>381</td>\n",
       "        <td>Detroit-Warren-Dearborn, MI</td>\n",
       "        <td>Mozilla/5.0 (Macintosh; Intel Mac OS X 10.9; rv:30.0) Gecko/20100101 Firefox/30.0</td>\n",
       "    </tr>\n",
       "    <tr>\n",
       "        <td>5537</td>\n",
       "        <td>1543256734796</td>\n",
       "        <td>92</td>\n",
       "        <td>free</td>\n",
       "        <td>SONQBUB12A6D4F8ED0</td>\n",
       "        <td>ARFCUN31187B9AD578</td>\n",
       "        <td>938</td>\n",
       "        <td>Palestine, TX</td>\n",
       "        <td>Mozilla/5.0 (Macintosh; Intel Mac OS X 10.9; rv:31.0) Gecko/20100101 Firefox/31.0</td>\n",
       "    </tr>\n",
       "    <tr>\n",
       "        <td>5661</td>\n",
       "        <td>1543342151796</td>\n",
       "        <td>49</td>\n",
       "        <td>paid</td>\n",
       "        <td>SOCHRXB12A8AE48069</td>\n",
       "        <td>ARTDQRC1187FB4EFD4</td>\n",
       "        <td>987</td>\n",
       "        <td>San Francisco-Oakland-Hayward, CA</td>\n",
       "        <td>Mozilla/5.0 (Windows NT 5.1; rv:31.0) Gecko/20100101 Firefox/31.0</td>\n",
       "    </tr>\n",
       "</table>"
      ],
      "text/plain": [
       "[(928, 1541550480796, '63', 'free', 'SOXLVKX12A6310E1C9', 'ARWD25M1187FB4C563', '223', 'Santa Rosa, CA', '\"Mozilla/5.0 (Macintosh; Intel Mac OS X 10_9_4) AppleWebKit/537.77.4 (KHTML, like Gecko) Version/7.0.5 Safari/537.77.4\"'),\n",
       " (1120, 1541663782796, '80', 'paid', 'SOGOQGE12AB0182907', 'ARVG4OK1187B9B6BD3', '342', 'Portland-South Portland, ME', '\"Mozilla/5.0 (Macintosh; Intel Mac OS X 10_9_4) AppleWebKit/537.36 (KHTML, like Gecko) Chrome/36.0.1985.143 Safari/537.36\"'),\n",
       " (1457, 1541793477796, '36', 'paid', 'SODWXQV12A6310F10D', 'AR6892W1187B9AC71B', '392', 'Janesville-Beloit, WI', '\"Mozilla/5.0 (Windows NT 5.1) AppleWebKit/537.36 (KHTML, like Gecko) Chrome/36.0.1985.143 Safari/537.36\"'),\n",
       " (1635, 1541948437796, '67', 'free', 'SOCHRXB12A8AE48069', 'ARTDQRC1187FB4EFD4', '414', 'Nashville-Davidson--Murfreesboro--Franklin, TN', '\"Mozilla/5.0 (Macintosh; Intel Mac OS X 10_9_4) AppleWebKit/537.36 (KHTML, like Gecko) Chrome/36.0.1985.125 Safari/537.36\"'),\n",
       " (2043, 1542136279796, '97', 'paid', 'SOQSYGY12A8C137E0F', 'AROF4LP1187FB41C51', '537', 'Lansing-East Lansing, MI', '\"Mozilla/5.0 (X11; Linux x86_64) AppleWebKit/537.36 (KHTML, like Gecko) Chrome/37.0.2062.94 Safari/537.36\"'),\n",
       " (2886, 1542306785796, '97', 'paid', 'SOOOROX12A6D4F8400', 'ARWY7I71187FB36C3D', '605', 'Lansing-East Lansing, MI', '\"Mozilla/5.0 (X11; Linux x86_64) AppleWebKit/537.36 (KHTML, like Gecko) Chrome/37.0.2062.94 Safari/537.36\"'),\n",
       " (3001, 1542319191796, '44', 'paid', 'SODPLYE12AB01898FB', 'ARA3I0J1187FB57869', '619', 'Waterloo-Cedar Falls, IA', 'Mozilla/5.0 (Macintosh; Intel Mac OS X 10.9; rv:31.0) Gecko/20100101 Firefox/31.0'),\n",
       " (3167, 1542378072796, '85', 'paid', 'SOLRYQR12A670215BF', 'ARNLO5S1187B9B80CC', '436', 'Red Bluff, CA', '\"Mozilla/5.0 (Macintosh; Intel Mac OS X 10_10_0) AppleWebKit/537.36 (KHTML, like Gecko) Chrome/36.0.1985.143 Safari/537.36\"'),\n",
       " (4137, 1542735998796, '49', 'paid', 'SOCHRXB12A8AE48069', 'ARTDQRC1187FB4EFD4', '758', 'San Francisco-Oakland-Hayward, CA', 'Mozilla/5.0 (Windows NT 5.1; rv:31.0) Gecko/20100101 Firefox/31.0'),\n",
       " (4627, 1542837407796, '15', 'paid', 'SOZCTXZ12AB0182364', 'AR5KOSW1187FB35FF4', '818', 'Chicago-Naperville-Elgin, IL-IN-WI', '\"Mozilla/5.0 (X11; Linux x86_64) AppleWebKit/537.36 (KHTML, like Gecko) Ubuntu Chromium/36.0.1985.125 Chrome/36.0.1985.125 Safari/537.36\"'),\n",
       " (4745, 1542932064796, '66', 'free', 'SOJBWGF12A8159E883', 'ARYVO9V1187B9B1FC6', '815', 'Harrisburg-Carlisle, PA', '\"Mozilla/5.0 (Macintosh; Intel Mac OS X 10_9_4) AppleWebKit/537.36 (KHTML, like Gecko) Chrome/36.0.1985.125 Safari/537.36\"'),\n",
       " (5114, 1543063380796, '73', 'paid', 'SONQBUB12A6D4F8ED0', 'ARFCUN31187B9AD578', '692', 'Tampa-St. Petersburg-Clearwater, FL', '\"Mozilla/5.0 (Macintosh; Intel Mac OS X 10_9_4) AppleWebKit/537.78.2 (KHTML, like Gecko) Version/7.0.6 Safari/537.78.2\"'),\n",
       " (5172, 1543069653796, '73', 'paid', 'SOOOROX12A6D4F8400', 'ARWY7I71187FB36C3D', '692', 'Tampa-St. Petersburg-Clearwater, FL', '\"Mozilla/5.0 (Macintosh; Intel Mac OS X 10_9_4) AppleWebKit/537.78.2 (KHTML, like Gecko) Version/7.0.6 Safari/537.78.2\"'),\n",
       " (5507, 1543246436796, '72', 'paid', 'SODOLVO12B0B80B2F4', 'AR6XPWV1187B9ADAEB', '381', 'Detroit-Warren-Dearborn, MI', 'Mozilla/5.0 (Macintosh; Intel Mac OS X 10.9; rv:30.0) Gecko/20100101 Firefox/30.0'),\n",
       " (5537, 1543256734796, '92', 'free', 'SONQBUB12A6D4F8ED0', 'ARFCUN31187B9AD578', '938', 'Palestine, TX', 'Mozilla/5.0 (Macintosh; Intel Mac OS X 10.9; rv:31.0) Gecko/20100101 Firefox/31.0'),\n",
       " (5661, 1543342151796, '49', 'paid', 'SOCHRXB12A8AE48069', 'ARTDQRC1187FB4EFD4', '987', 'San Francisco-Oakland-Hayward, CA', 'Mozilla/5.0 (Windows NT 5.1; rv:31.0) Gecko/20100101 Firefox/31.0')]"
      ]
     },
     "execution_count": 24,
     "metadata": {},
     "output_type": "execute_result"
    }
   ],
   "source": [
    "%sql SELECT * FROM songplays WHERE song_id != 'None';"
   ]
  },
  {
   "cell_type": "code",
   "execution_count": 19,
   "metadata": {},
   "outputs": [
    {
     "name": "stdout",
     "output_type": "stream",
     "text": [
      " * postgresql://localhost/musicdb\n",
      "0 rows affected.\n"
     ]
    },
    {
     "data": {
      "text/html": [
       "<table>\n",
       "    <tr>\n",
       "        <th>start_time</th>\n",
       "        <th>hour</th>\n",
       "        <th>day</th>\n",
       "        <th>week</th>\n",
       "        <th>month</th>\n",
       "        <th>year</th>\n",
       "        <th>weekday</th>\n",
       "    </tr>\n",
       "</table>"
      ],
      "text/plain": [
       "[]"
      ]
     },
     "execution_count": 19,
     "metadata": {},
     "output_type": "execute_result"
    }
   ],
   "source": [
    "%sql SELECT * FROM time LIMIT 5;"
   ]
  },
  {
   "cell_type": "code",
   "execution_count": 8,
   "metadata": {},
   "outputs": [
    {
     "name": "stdout",
     "output_type": "stream",
     "text": [
      " * postgresql://localhost/musicdb\n",
      "1 rows affected.\n"
     ]
    },
    {
     "data": {
      "text/html": [
       "<table>\n",
       "    <tr>\n",
       "        <th>song_id</th>\n",
       "        <th>artist_id</th>\n",
       "    </tr>\n",
       "    <tr>\n",
       "        <td>SOCIWDW12A8C13D406</td>\n",
       "        <td>ARMJAGH1187FB546F3</td>\n",
       "    </tr>\n",
       "</table>"
      ],
      "text/plain": [
       "[('SOCIWDW12A8C13D406', 'ARMJAGH1187FB546F3')]"
      ]
     },
     "execution_count": 8,
     "metadata": {},
     "output_type": "execute_result"
    }
   ],
   "source": [
    "%%sql \n",
    "SELECT songs.song_id, songs.artist_id FROM \n",
    "songs JOIN artists ON songs.artist_id = artists.artist_id \n",
    "WHERE songs.song_title = 'Soul Deep'"
   ]
  },
  {
   "cell_type": "markdown",
   "metadata": {},
   "source": [
    "## REMEMBER: Restart this notebook to close connection to `sparkifydb`\n",
    "Each time you run the cells above, remember to restart this notebook to close the connection to your database. Otherwise, you won't be able to run your code in `create_tables.py`, `etl.py`, or `etl.ipynb` files since you can't make multiple connections to the same database (in this case, sparkifydb)."
   ]
  }
 ],
 "metadata": {
  "kernelspec": {
   "display_name": "Python 3",
   "language": "python",
   "name": "python3"
  },
  "language_info": {
   "codemirror_mode": {
    "name": "ipython",
    "version": 3
   },
   "file_extension": ".py",
   "mimetype": "text/x-python",
   "name": "python",
   "nbconvert_exporter": "python",
   "pygments_lexer": "ipython3",
   "version": "3.7.4"
  }
 },
 "nbformat": 4,
 "nbformat_minor": 4
}

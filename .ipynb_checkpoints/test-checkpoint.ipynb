{
 "cells": [
  {
   "cell_type": "code",
   "execution_count": 2,
   "metadata": {},
   "outputs": [],
   "source": [
    "%load_ext sql\n",
    "\n",
    "import psycopg2"
   ]
  },
  {
   "cell_type": "code",
   "execution_count": 3,
   "metadata": {},
   "outputs": [],
   "source": [
    "%sql postgresql://localhost/musicdb\n",
    "    \n",
    "\n",
    "conn = psycopg2.connect(\"host=localhost dbname=musicdb\")\n",
    "cur = conn.cursor()\n"
   ]
  },
  {
   "cell_type": "code",
   "execution_count": null,
   "metadata": {},
   "outputs": [],
   "source": [
    "\n"
   ]
  },
  {
   "cell_type": "code",
   "execution_count": 40,
   "metadata": {},
   "outputs": [
    {
     "name": "stdout",
     "output_type": "stream",
     "text": [
      " * postgresql://localhost/musicdb\n",
      "5 rows affected.\n"
     ]
    },
    {
     "data": {
      "text/html": [
       "<table>\n",
       "    <tr>\n",
       "        <th>song_id</th>\n",
       "        <th>artist_id</th>\n",
       "        <th>song_title</th>\n",
       "        <th>album_title</th>\n",
       "        <th>year</th>\n",
       "        <th>duration</th>\n",
       "    </tr>\n",
       "    <tr>\n",
       "        <td>SOMZWCG12A8C13C480</td>\n",
       "        <td>ARD7TVE1187B99BFB1</td>\n",
       "        <td>I Didn&#x27;t Mean To</td>\n",
       "        <td>Fear Itself</td>\n",
       "        <td>0</td>\n",
       "        <td>218.932</td>\n",
       "    </tr>\n",
       "    <tr>\n",
       "        <td>SOCIWDW12A8C13D406</td>\n",
       "        <td>ARMJAGH1187FB546F3</td>\n",
       "        <td>Soul Deep</td>\n",
       "        <td>Dimensions</td>\n",
       "        <td>1969</td>\n",
       "        <td>148.035</td>\n",
       "    </tr>\n",
       "    <tr>\n",
       "        <td>SOXVLOJ12AB0189215</td>\n",
       "        <td>ARKRRTF1187B9984DA</td>\n",
       "        <td>Amor De Cabaret</td>\n",
       "        <td>Las Numero 1 De La Sonora Santanera</td>\n",
       "        <td>0</td>\n",
       "        <td>177.475</td>\n",
       "    </tr>\n",
       "    <tr>\n",
       "        <td>SONHOTT12A8C13493C</td>\n",
       "        <td>AR7G5I41187FB4CE6C</td>\n",
       "        <td>Something Girls</td>\n",
       "        <td>Friend Or Foe</td>\n",
       "        <td>1982</td>\n",
       "        <td>233.404</td>\n",
       "    </tr>\n",
       "    <tr>\n",
       "        <td>SOFSOCN12A8C143F5D</td>\n",
       "        <td>ARXR32B1187FB57099</td>\n",
       "        <td>Face the Ashes</td>\n",
       "        <td>Muertos Vivos</td>\n",
       "        <td>2007</td>\n",
       "        <td>209.606</td>\n",
       "    </tr>\n",
       "</table>"
      ],
      "text/plain": [
       "[('SOMZWCG12A8C13C480', 'ARD7TVE1187B99BFB1', \"I Didn't Mean To\", 'Fear Itself', 0, 218.932),\n",
       " ('SOCIWDW12A8C13D406', 'ARMJAGH1187FB546F3', 'Soul Deep', 'Dimensions', 1969, 148.035),\n",
       " ('SOXVLOJ12AB0189215', 'ARKRRTF1187B9984DA', 'Amor De Cabaret', 'Las Numero 1 De La Sonora Santanera', 0, 177.475),\n",
       " ('SONHOTT12A8C13493C', 'AR7G5I41187FB4CE6C', 'Something Girls', 'Friend Or Foe', 1982, 233.404),\n",
       " ('SOFSOCN12A8C143F5D', 'ARXR32B1187FB57099', 'Face the Ashes', 'Muertos Vivos', 2007, 209.606)]"
      ]
     },
     "execution_count": 40,
     "metadata": {},
     "output_type": "execute_result"
    }
   ],
   "source": [
    "%sql SELECT * FROM songs limit 5;"
   ]
  },
  {
   "cell_type": "code",
   "execution_count": 7,
   "metadata": {},
   "outputs": [
    {
     "name": "stdout",
     "output_type": "stream",
     "text": [
      " * postgresql://localhost/musicdb\n",
      "5 rows affected.\n"
     ]
    },
    {
     "data": {
      "text/html": [
       "<table>\n",
       "    <tr>\n",
       "        <th>user_id</th>\n",
       "        <th>first_name</th>\n",
       "        <th>last_name</th>\n",
       "        <th>gender</th>\n",
       "        <th>level</th>\n",
       "    </tr>\n",
       "    <tr>\n",
       "        <td>8</td>\n",
       "        <td>Kaylee</td>\n",
       "        <td>Summers</td>\n",
       "        <td>F</td>\n",
       "        <td>free</td>\n",
       "    </tr>\n",
       "    <tr>\n",
       "        <td>10</td>\n",
       "        <td>Sylvie</td>\n",
       "        <td>Cruz</td>\n",
       "        <td>F</td>\n",
       "        <td>free</td>\n",
       "    </tr>\n",
       "    <tr>\n",
       "        <td>26</td>\n",
       "        <td>Ryan</td>\n",
       "        <td>Smith</td>\n",
       "        <td>M</td>\n",
       "        <td>free</td>\n",
       "    </tr>\n",
       "    <tr>\n",
       "        <td>101</td>\n",
       "        <td>Jayden</td>\n",
       "        <td>Fox</td>\n",
       "        <td>M</td>\n",
       "        <td>free</td>\n",
       "    </tr>\n",
       "    <tr>\n",
       "        <td>83</td>\n",
       "        <td>Stefany</td>\n",
       "        <td>White</td>\n",
       "        <td>F</td>\n",
       "        <td>free</td>\n",
       "    </tr>\n",
       "</table>"
      ],
      "text/plain": [
       "[('8', 'Kaylee', 'Summers', 'F', 'free'),\n",
       " ('10', 'Sylvie', 'Cruz', 'F', 'free'),\n",
       " ('26', 'Ryan', 'Smith', 'M', 'free'),\n",
       " ('101', 'Jayden', 'Fox', 'M', 'free'),\n",
       " ('83', 'Stefany', 'White', 'F', 'free')]"
      ]
     },
     "execution_count": 7,
     "metadata": {},
     "output_type": "execute_result"
    }
   ],
   "source": [
    "%sql SELECT * FROM users LIMIT 5;"
   ]
  },
  {
   "cell_type": "code",
   "execution_count": 39,
   "metadata": {},
   "outputs": [
    {
     "name": "stdout",
     "output_type": "stream",
     "text": [
      " * postgresql://localhost/musicdb\n",
      "1 rows affected.\n"
     ]
    },
    {
     "data": {
      "text/html": [
       "<table>\n",
       "    <tr>\n",
       "        <th>count</th>\n",
       "    </tr>\n",
       "    <tr>\n",
       "        <td>625</td>\n",
       "    </tr>\n",
       "</table>"
      ],
      "text/plain": [
       "[(625,)]"
      ]
     },
     "execution_count": 39,
     "metadata": {},
     "output_type": "execute_result"
    }
   ],
   "source": [
    "%sql SELECT COUNT(*) FROM songs LIMIT 5;"
   ]
  },
  {
   "cell_type": "code",
   "execution_count": 38,
   "metadata": {},
   "outputs": [
    {
     "name": "stdout",
     "output_type": "stream",
     "text": [
      " * postgresql://localhost/musicdb\n",
      "5 rows affected.\n"
     ]
    },
    {
     "data": {
      "text/html": [
       "<table>\n",
       "    <tr>\n",
       "        <th>songplay_id</th>\n",
       "        <th>start_time</th>\n",
       "        <th>user_id</th>\n",
       "        <th>level</th>\n",
       "        <th>song_id</th>\n",
       "        <th>artist_id</th>\n",
       "        <th>session_id</th>\n",
       "        <th>location</th>\n",
       "        <th>user_agent</th>\n",
       "    </tr>\n",
       "    <tr>\n",
       "        <td>1</td>\n",
       "        <td>1541106106796</td>\n",
       "        <td>8</td>\n",
       "        <td>free</td>\n",
       "        <td>SOCIWDW12A8C13D406</td>\n",
       "        <td>ARMJAGH1187FB546F3</td>\n",
       "        <td>139</td>\n",
       "        <td>Phoenix-Mesa-Scottsdale, AZ</td>\n",
       "        <td>&quot;Mozilla/5.0 (Windows NT 6.1; WOW64) AppleWebKit/537.36 (KHTML, like Gecko) Chrome/35.0.1916.153 Safari/537.36&quot;</td>\n",
       "    </tr>\n",
       "    <tr>\n",
       "        <td>2</td>\n",
       "        <td>1541106352796</td>\n",
       "        <td>8</td>\n",
       "        <td>free</td>\n",
       "        <td>SOCIWDW12A8C13D406</td>\n",
       "        <td>ARMJAGH1187FB546F3</td>\n",
       "        <td>139</td>\n",
       "        <td>Phoenix-Mesa-Scottsdale, AZ</td>\n",
       "        <td>&quot;Mozilla/5.0 (Windows NT 6.1; WOW64) AppleWebKit/537.36 (KHTML, like Gecko) Chrome/35.0.1916.153 Safari/537.36&quot;</td>\n",
       "    </tr>\n",
       "    <tr>\n",
       "        <td>3</td>\n",
       "        <td>1541106496796</td>\n",
       "        <td>8</td>\n",
       "        <td>free</td>\n",
       "        <td>SOCIWDW12A8C13D406</td>\n",
       "        <td>ARMJAGH1187FB546F3</td>\n",
       "        <td>139</td>\n",
       "        <td>Phoenix-Mesa-Scottsdale, AZ</td>\n",
       "        <td>&quot;Mozilla/5.0 (Windows NT 6.1; WOW64) AppleWebKit/537.36 (KHTML, like Gecko) Chrome/35.0.1916.153 Safari/537.36&quot;</td>\n",
       "    </tr>\n",
       "    <tr>\n",
       "        <td>4</td>\n",
       "        <td>1541106673796</td>\n",
       "        <td>8</td>\n",
       "        <td>free</td>\n",
       "        <td>SOCIWDW12A8C13D406</td>\n",
       "        <td>ARMJAGH1187FB546F3</td>\n",
       "        <td>139</td>\n",
       "        <td>Phoenix-Mesa-Scottsdale, AZ</td>\n",
       "        <td>&quot;Mozilla/5.0 (Windows NT 6.1; WOW64) AppleWebKit/537.36 (KHTML, like Gecko) Chrome/35.0.1916.153 Safari/537.36&quot;</td>\n",
       "    </tr>\n",
       "    <tr>\n",
       "        <td>5</td>\n",
       "        <td>1541107053796</td>\n",
       "        <td>8</td>\n",
       "        <td>free</td>\n",
       "        <td>SOCIWDW12A8C13D406</td>\n",
       "        <td>ARMJAGH1187FB546F3</td>\n",
       "        <td>139</td>\n",
       "        <td>Phoenix-Mesa-Scottsdale, AZ</td>\n",
       "        <td>&quot;Mozilla/5.0 (Windows NT 6.1; WOW64) AppleWebKit/537.36 (KHTML, like Gecko) Chrome/35.0.1916.153 Safari/537.36&quot;</td>\n",
       "    </tr>\n",
       "</table>"
      ],
      "text/plain": [
       "[(1, 1541106106796, '8', 'free', 'SOCIWDW12A8C13D406', 'ARMJAGH1187FB546F3', '139', 'Phoenix-Mesa-Scottsdale, AZ', '\"Mozilla/5.0 (Windows NT 6.1; WOW64) AppleWebKit/537.36 (KHTML, like Gecko) Chrome/35.0.1916.153 Safari/537.36\"'),\n",
       " (2, 1541106352796, '8', 'free', 'SOCIWDW12A8C13D406', 'ARMJAGH1187FB546F3', '139', 'Phoenix-Mesa-Scottsdale, AZ', '\"Mozilla/5.0 (Windows NT 6.1; WOW64) AppleWebKit/537.36 (KHTML, like Gecko) Chrome/35.0.1916.153 Safari/537.36\"'),\n",
       " (3, 1541106496796, '8', 'free', 'SOCIWDW12A8C13D406', 'ARMJAGH1187FB546F3', '139', 'Phoenix-Mesa-Scottsdale, AZ', '\"Mozilla/5.0 (Windows NT 6.1; WOW64) AppleWebKit/537.36 (KHTML, like Gecko) Chrome/35.0.1916.153 Safari/537.36\"'),\n",
       " (4, 1541106673796, '8', 'free', 'SOCIWDW12A8C13D406', 'ARMJAGH1187FB546F3', '139', 'Phoenix-Mesa-Scottsdale, AZ', '\"Mozilla/5.0 (Windows NT 6.1; WOW64) AppleWebKit/537.36 (KHTML, like Gecko) Chrome/35.0.1916.153 Safari/537.36\"'),\n",
       " (5, 1541107053796, '8', 'free', 'SOCIWDW12A8C13D406', 'ARMJAGH1187FB546F3', '139', 'Phoenix-Mesa-Scottsdale, AZ', '\"Mozilla/5.0 (Windows NT 6.1; WOW64) AppleWebKit/537.36 (KHTML, like Gecko) Chrome/35.0.1916.153 Safari/537.36\"')]"
      ]
     },
     "execution_count": 38,
     "metadata": {},
     "output_type": "execute_result"
    }
   ],
   "source": [
    "%sql SELECT * FROM songplays where song_id = 'SOCIWDW12A8C13D406' limit 5;"
   ]
  },
  {
   "cell_type": "code",
   "execution_count": 31,
   "metadata": {},
   "outputs": [
    {
     "name": "stdout",
     "output_type": "stream",
     "text": [
      " * postgresql://localhost/musicdb\n",
      "5 rows affected.\n"
     ]
    },
    {
     "data": {
      "text/html": [
       "<table>\n",
       "    <tr>\n",
       "        <th>start_time</th>\n",
       "        <th>hour</th>\n",
       "        <th>day</th>\n",
       "        <th>week</th>\n",
       "        <th>month</th>\n",
       "        <th>year</th>\n",
       "        <th>weekday</th>\n",
       "    </tr>\n",
       "    <tr>\n",
       "        <td>1541106106796</td>\n",
       "        <td>21</td>\n",
       "        <td>1</td>\n",
       "        <td>44</td>\n",
       "        <td>11</td>\n",
       "        <td>2018</td>\n",
       "        <td>3</td>\n",
       "    </tr>\n",
       "    <tr>\n",
       "        <td>1541106352796</td>\n",
       "        <td>21</td>\n",
       "        <td>1</td>\n",
       "        <td>44</td>\n",
       "        <td>11</td>\n",
       "        <td>2018</td>\n",
       "        <td>3</td>\n",
       "    </tr>\n",
       "    <tr>\n",
       "        <td>1541106496796</td>\n",
       "        <td>21</td>\n",
       "        <td>1</td>\n",
       "        <td>44</td>\n",
       "        <td>11</td>\n",
       "        <td>2018</td>\n",
       "        <td>3</td>\n",
       "    </tr>\n",
       "    <tr>\n",
       "        <td>1541106673796</td>\n",
       "        <td>21</td>\n",
       "        <td>1</td>\n",
       "        <td>44</td>\n",
       "        <td>11</td>\n",
       "        <td>2018</td>\n",
       "        <td>3</td>\n",
       "    </tr>\n",
       "    <tr>\n",
       "        <td>1541107053796</td>\n",
       "        <td>21</td>\n",
       "        <td>1</td>\n",
       "        <td>44</td>\n",
       "        <td>11</td>\n",
       "        <td>2018</td>\n",
       "        <td>3</td>\n",
       "    </tr>\n",
       "</table>"
      ],
      "text/plain": [
       "[(1541106106796, 21, 1, 44, 11, 2018, 3),\n",
       " (1541106352796, 21, 1, 44, 11, 2018, 3),\n",
       " (1541106496796, 21, 1, 44, 11, 2018, 3),\n",
       " (1541106673796, 21, 1, 44, 11, 2018, 3),\n",
       " (1541107053796, 21, 1, 44, 11, 2018, 3)]"
      ]
     },
     "execution_count": 31,
     "metadata": {},
     "output_type": "execute_result"
    }
   ],
   "source": [
    "%sql SELECT * FROM time LIMIT 5;"
   ]
  },
  {
   "cell_type": "code",
   "execution_count": 42,
   "metadata": {},
   "outputs": [
    {
     "name": "stdout",
     "output_type": "stream",
     "text": [
      " * postgresql://localhost/musicdb\n",
      "1 rows affected.\n"
     ]
    },
    {
     "data": {
      "text/html": [
       "<table>\n",
       "    <tr>\n",
       "        <th>song_id</th>\n",
       "        <th>artist_id</th>\n",
       "    </tr>\n",
       "    <tr>\n",
       "        <td>SOCIWDW12A8C13D406</td>\n",
       "        <td>ARMJAGH1187FB546F3</td>\n",
       "    </tr>\n",
       "</table>"
      ],
      "text/plain": [
       "[('SOCIWDW12A8C13D406', 'ARMJAGH1187FB546F3')]"
      ]
     },
     "execution_count": 42,
     "metadata": {},
     "output_type": "execute_result"
    }
   ],
   "source": [
    "%%sql \n",
    "SELECT songs.song_id, songs.artist_id FROM \n",
    "songs JOIN artists ON songs.artist_id = artists.artist_id \n",
    "WHERE songs.song_title = 'Soul Deep'\n"
   ]
  },
  {
   "cell_type": "markdown",
   "metadata": {},
   "source": [
    "## REMEMBER: Restart this notebook to close connection to `sparkifydb`\n",
    "Each time you run the cells above, remember to restart this notebook to close the connection to your database. Otherwise, you won't be able to run your code in `create_tables.py`, `etl.py`, or `etl.ipynb` files since you can't make multiple connections to the same database (in this case, sparkifydb)."
   ]
  }
 ],
 "metadata": {
  "kernelspec": {
   "display_name": "Python 3",
   "language": "python",
   "name": "python3"
  },
  "language_info": {
   "codemirror_mode": {
    "name": "ipython",
    "version": 3
   },
   "file_extension": ".py",
   "mimetype": "text/x-python",
   "name": "python",
   "nbconvert_exporter": "python",
   "pygments_lexer": "ipython3",
   "version": "3.7.4"
  }
 },
 "nbformat": 4,
 "nbformat_minor": 4
}
